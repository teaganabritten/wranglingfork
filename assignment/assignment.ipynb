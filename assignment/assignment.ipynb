{
  "cells": [
    {
      "cell_type": "markdown",
      "id": "13ad028b-72b7-43ed-aa78-96fd4e518040",
      "metadata": {
        "id": "13ad028b-72b7-43ed-aa78-96fd4e518040"
      },
      "source": [
        "# Assignment: Data Wrangling\n",
        "### `! git clone https://github.com/ds4e/wrangling`\n",
        "### Do Q2, and one of Q1 or Q3."
      ]
    },
    {
      "cell_type": "markdown",
      "id": "da879ea7-8aac-48a3-b6c2-daea56d2e072",
      "metadata": {
        "id": "da879ea7-8aac-48a3-b6c2-daea56d2e072"
      },
      "source": [
        "**Q1.** This question provides some practice cleaning variables which have common problems.\n",
        "1. Numeric variable: For `./data/airbnb_hw.csv`, clean the `Price` variable as well as you can, and explain the choices you make. How many missing values do you end up with? (Hint: What happens to the formatting when a price goes over 999 dollars, say from 675 to 1,112?)\n",
        "2. Categorical variable: For the Minnesota police use of for data, `./data/mn_police_use_of_force.csv`, clean the `subject_injury` variable, handling the NA's; this gives a value `Yes` when a person was injured by police, and `No` when no injury occurred. What proportion of the values are missing? Is this a concern? Cross-tabulate your cleaned `subject_injury` variable with the `force_type` variable. Are there any patterns regarding when the data are missing?\n",
        "3. Dummy variable: For the pretrial data covered in the lecture, clean the `WhetherDefendantWasReleasedPretrial` variable as well as you can, and, in particular, replace missing values with `np.nan`.\n",
        "4. Missing values, not at random: For the pretrial data covered in the lecture, clean the `ImposedSentenceAllChargeInContactEvent` variable as well as you can, and explain the choices you make. (Hint: Look at the `SentenceTypeAllChargesAtConvictionInContactEvent` variable.)"
      ]
    },
    {
      "cell_type": "markdown",
      "id": "5a60a44e",
      "metadata": {
        "id": "5a60a44e"
      },
      "source": [
        "**Q2.** Go to https://sharkattackfile.net/ and download their dataset on shark attacks.\n",
        "\n",
        "1. Open the shark attack file using Pandas. It is probably not a csv file, so `read_csv` won't work.\n",
        "2. Drop any columns that do not contain data.\n",
        "3. Clean the year variable. Describe the range of values you see. Filter the rows to focus on attacks since 1940. Are attacks increasing, decreasing, or remaining constant over time?\n",
        "4. Clean the Age variable and make a histogram of the ages of the victims.\n",
        "5. What proportion of victims are male?\n",
        "6. Clean the `Type` variable so it only takes three values: Provoked and Unprovoked and Unknown. What proportion of attacks are unprovoked?\n",
        "7. Clean the `Fatal Y/N` variable so it only takes three values: Y, N, and Unknown.\n",
        "8. Are sharks more likely to launch unprovoked attacks on men or women? Is the attack more or less likely to be fatal when the attack is provoked or unprovoked? Is it more or less likely to be fatal when the victim is male or female? How do you feel about sharks?\n",
        "9. What proportion of attacks appear to be by white sharks? (Hint: `str.split()` makes a vector of text values into a list of lists, split by spaces.)"
      ]
    },
    {
      "cell_type": "code",
      "execution_count": 21,
      "id": "90u3A7TyZ_2h",
      "metadata": {
        "colab": {
          "base_uri": "https://localhost:8080/",
          "height": 321
        },
        "id": "90u3A7TyZ_2h",
        "outputId": "0014117f-a7b8-4c48-f4eb-4bc8cc0b16a2"
      },
      "outputs": [],
      "source": [
        "import pandas as pd\n",
        "import xlrd\n",
        "import matplotlib.pyplot as plt\n",
        "\n",
        "\n",
        "sharkdata = pd.read_excel('GSAF5.xls')\n",
        "\n",
        "sharkdata.to_csv('sharkdata.csv', index=False)\n",
        "sharkdata = pd.read_csv('sharkdata.csv')\n",
        "\n",
        "sharkdata.dropna(axis=1, how='all', inplace=True)\n",
        "\n",
        "sharkdata['Year'].describe()\n"
      ]
    },
    {
      "cell_type": "code",
      "execution_count": null,
      "id": "075fc02e",
      "metadata": {},
      "outputs": [
        {
          "data": {
            "text/plain": [
              "count    6990.000000\n",
              "mean     1935.018598\n",
              "std       272.082794\n",
              "min         0.000000\n",
              "25%      1947.000000\n",
              "50%      1986.000000\n",
              "75%      2009.000000\n",
              "max      2026.000000\n",
              "Name: Year, dtype: float64"
            ]
          },
          "execution_count": 25,
          "metadata": {},
          "output_type": "execute_result"
        }
      ],
      "source": [
        "sharkdata.head(10)\n",
        "sharkdata['Year'].describe()\n",
        "\n",
        "'''\n",
        "'Year' is currently a float, with each year having a .0 at the end of it\n",
        "'''"
      ]
    },
    {
      "cell_type": "code",
      "execution_count": 24,
      "id": "0ceaaccd",
      "metadata": {},
      "outputs": [
        {
          "data": {
            "text/html": [
              "<div>\n",
              "<style scoped>\n",
              "    .dataframe tbody tr th:only-of-type {\n",
              "        vertical-align: middle;\n",
              "    }\n",
              "\n",
              "    .dataframe tbody tr th {\n",
              "        vertical-align: top;\n",
              "    }\n",
              "\n",
              "    .dataframe thead th {\n",
              "        text-align: right;\n",
              "    }\n",
              "</style>\n",
              "<table border=\"1\" class=\"dataframe\">\n",
              "  <thead>\n",
              "    <tr style=\"text-align: right;\">\n",
              "      <th></th>\n",
              "      <th>Date</th>\n",
              "      <th>Year</th>\n",
              "      <th>Type</th>\n",
              "      <th>Country</th>\n",
              "      <th>State</th>\n",
              "      <th>Location</th>\n",
              "      <th>Activity</th>\n",
              "      <th>Name</th>\n",
              "      <th>Sex</th>\n",
              "      <th>Age</th>\n",
              "      <th>...</th>\n",
              "      <th>Species</th>\n",
              "      <th>Source</th>\n",
              "      <th>pdf</th>\n",
              "      <th>href formula</th>\n",
              "      <th>href</th>\n",
              "      <th>Case Number</th>\n",
              "      <th>Case Number.1</th>\n",
              "      <th>original order</th>\n",
              "      <th>Unnamed: 21</th>\n",
              "      <th>Unnamed: 22</th>\n",
              "    </tr>\n",
              "  </thead>\n",
              "  <tbody>\n",
              "    <tr>\n",
              "      <th>0</th>\n",
              "      <td>2025-01-23 00:00:00</td>\n",
              "      <td>2025</td>\n",
              "      <td>Unprovoked</td>\n",
              "      <td>Australia</td>\n",
              "      <td>Western Australia</td>\n",
              "      <td>Shipwreck Cove</td>\n",
              "      <td>Bathing</td>\n",
              "      <td>Boy</td>\n",
              "      <td>M</td>\n",
              "      <td>12</td>\n",
              "      <td>...</td>\n",
              "      <td>Not stated</td>\n",
              "      <td>Bob Myatt GSAF</td>\n",
              "      <td>NaN</td>\n",
              "      <td>NaN</td>\n",
              "      <td>NaN</td>\n",
              "      <td>NaN</td>\n",
              "      <td>NaN</td>\n",
              "      <td>NaN</td>\n",
              "      <td>NaN</td>\n",
              "      <td>NaN</td>\n",
              "    </tr>\n",
              "    <tr>\n",
              "      <th>1</th>\n",
              "      <td>2025-01-22 00:00:00</td>\n",
              "      <td>2025</td>\n",
              "      <td>Unprovoked</td>\n",
              "      <td>Australia</td>\n",
              "      <td>Western Australia</td>\n",
              "      <td>Cheynes beach</td>\n",
              "      <td>Surfing</td>\n",
              "      <td>Dale Kittow</td>\n",
              "      <td>M</td>\n",
              "      <td>37</td>\n",
              "      <td>...</td>\n",
              "      <td>Bronze whaler</td>\n",
              "      <td>Bob Myatt GSAF</td>\n",
              "      <td>NaN</td>\n",
              "      <td>NaN</td>\n",
              "      <td>NaN</td>\n",
              "      <td>NaN</td>\n",
              "      <td>NaN</td>\n",
              "      <td>NaN</td>\n",
              "      <td>NaN</td>\n",
              "      <td>NaN</td>\n",
              "    </tr>\n",
              "    <tr>\n",
              "      <th>2</th>\n",
              "      <td>2025-01-11 00:00:00</td>\n",
              "      <td>2025</td>\n",
              "      <td>Provoked</td>\n",
              "      <td>USA</td>\n",
              "      <td>Hawaii</td>\n",
              "      <td>Off Haleiwa Boat Harbour Oahu</td>\n",
              "      <td>Diving</td>\n",
              "      <td>Male not stated was a dive tour worker</td>\n",
              "      <td>M</td>\n",
              "      <td>23</td>\n",
              "      <td>...</td>\n",
              "      <td>Not stated</td>\n",
              "      <td>Kevin McMurray Trackingsharks.com</td>\n",
              "      <td>NaN</td>\n",
              "      <td>NaN</td>\n",
              "      <td>NaN</td>\n",
              "      <td>NaN</td>\n",
              "      <td>NaN</td>\n",
              "      <td>NaN</td>\n",
              "      <td>NaN</td>\n",
              "      <td>NaN</td>\n",
              "    </tr>\n",
              "    <tr>\n",
              "      <th>3</th>\n",
              "      <td>2025-01-02 00:00:00</td>\n",
              "      <td>2025</td>\n",
              "      <td>Unprovoked</td>\n",
              "      <td>New Caledonia</td>\n",
              "      <td>Grande Terre</td>\n",
              "      <td>Islet of Kendek near Koumac</td>\n",
              "      <td>Spearfishing</td>\n",
              "      <td>Robert Cuewapuru</td>\n",
              "      <td>M</td>\n",
              "      <td>40</td>\n",
              "      <td>...</td>\n",
              "      <td>Reportedly Tiger or Bull shark</td>\n",
              "      <td>Johannes Marchand Todd Smith</td>\n",
              "      <td>NaN</td>\n",
              "      <td>NaN</td>\n",
              "      <td>NaN</td>\n",
              "      <td>NaN</td>\n",
              "      <td>NaN</td>\n",
              "      <td>NaN</td>\n",
              "      <td>NaN</td>\n",
              "      <td>NaN</td>\n",
              "    </tr>\n",
              "    <tr>\n",
              "      <th>4</th>\n",
              "      <td>2025-01-02 00:00:00</td>\n",
              "      <td>2025</td>\n",
              "      <td>Unprovoked</td>\n",
              "      <td>Australia</td>\n",
              "      <td>South Australia</td>\n",
              "      <td>Granites Beach near Westall Streaky Bay</td>\n",
              "      <td>Surfing</td>\n",
              "      <td>Lance Appleby</td>\n",
              "      <td>M</td>\n",
              "      <td>28</td>\n",
              "      <td>...</td>\n",
              "      <td>Great White Shart estimated 4.8m 16 ft</td>\n",
              "      <td>Glen Folkard: Simon De Marchi News.com.au: The...</td>\n",
              "      <td>NaN</td>\n",
              "      <td>NaN</td>\n",
              "      <td>NaN</td>\n",
              "      <td>NaN</td>\n",
              "      <td>NaN</td>\n",
              "      <td>NaN</td>\n",
              "      <td>NaN</td>\n",
              "      <td>NaN</td>\n",
              "    </tr>\n",
              "    <tr>\n",
              "      <th>5</th>\n",
              "      <td>2024-12-29 00:00:00</td>\n",
              "      <td>2024</td>\n",
              "      <td>Unprovoked</td>\n",
              "      <td>Egypt</td>\n",
              "      <td>North of Marsa Alam</td>\n",
              "      <td>Red Sea</td>\n",
              "      <td>SCUBA Diving</td>\n",
              "      <td>Peppino Fappani</td>\n",
              "      <td>M</td>\n",
              "      <td>69</td>\n",
              "      <td>...</td>\n",
              "      <td>Reportedly a Tiger Shark</td>\n",
              "      <td>Todd Smith : Kevin McMurray Trackingsharks .co...</td>\n",
              "      <td>NaN</td>\n",
              "      <td>NaN</td>\n",
              "      <td>NaN</td>\n",
              "      <td>NaN</td>\n",
              "      <td>NaN</td>\n",
              "      <td>NaN</td>\n",
              "      <td>NaN</td>\n",
              "      <td>NaN</td>\n",
              "    </tr>\n",
              "    <tr>\n",
              "      <th>6</th>\n",
              "      <td>2024-12-29 00:00:00</td>\n",
              "      <td>2024</td>\n",
              "      <td>Unprovoked</td>\n",
              "      <td>Egypt</td>\n",
              "      <td>North of Marsa Alam</td>\n",
              "      <td>Red Sea</td>\n",
              "      <td>SCUBA Diving</td>\n",
              "      <td>Gianluca Di Gioia</td>\n",
              "      <td>M</td>\n",
              "      <td>48</td>\n",
              "      <td>...</td>\n",
              "      <td>Reportedly a Tiger Shark</td>\n",
              "      <td>Todd Smith : Kevin McMurray Trackingsharks .co...</td>\n",
              "      <td>NaN</td>\n",
              "      <td>NaN</td>\n",
              "      <td>NaN</td>\n",
              "      <td>NaN</td>\n",
              "      <td>NaN</td>\n",
              "      <td>NaN</td>\n",
              "      <td>NaN</td>\n",
              "      <td>NaN</td>\n",
              "    </tr>\n",
              "    <tr>\n",
              "      <th>7</th>\n",
              "      <td>2024-12-28 00:00:00</td>\n",
              "      <td>2024</td>\n",
              "      <td>Unprovoked</td>\n",
              "      <td>Australia</td>\n",
              "      <td>Queensland</td>\n",
              "      <td>Humpy Island Great Keppel Island</td>\n",
              "      <td>Spearfishing</td>\n",
              "      <td>Luke Walford</td>\n",
              "      <td>M</td>\n",
              "      <td>40</td>\n",
              "      <td>...</td>\n",
              "      <td>Unknown</td>\n",
              "      <td>Todd Smith Glen Folkard ABC News: The North We...</td>\n",
              "      <td>NaN</td>\n",
              "      <td>NaN</td>\n",
              "      <td>NaN</td>\n",
              "      <td>NaN</td>\n",
              "      <td>NaN</td>\n",
              "      <td>NaN</td>\n",
              "      <td>NaN</td>\n",
              "      <td>NaN</td>\n",
              "    </tr>\n",
              "    <tr>\n",
              "      <th>8</th>\n",
              "      <td>2024-12-02 00:00:00</td>\n",
              "      <td>2024</td>\n",
              "      <td>Unprovoked</td>\n",
              "      <td>Australia</td>\n",
              "      <td>Queensland</td>\n",
              "      <td>Curtis Island Near Gladstone QLD central coast</td>\n",
              "      <td>Spearfishing</td>\n",
              "      <td>Not stated</td>\n",
              "      <td>M</td>\n",
              "      <td>60+</td>\n",
              "      <td>...</td>\n",
              "      <td>Not stated</td>\n",
              "      <td>Glen Folkard GSAF</td>\n",
              "      <td>NaN</td>\n",
              "      <td>NaN</td>\n",
              "      <td>NaN</td>\n",
              "      <td>NaN</td>\n",
              "      <td>NaN</td>\n",
              "      <td>NaN</td>\n",
              "      <td>NaN</td>\n",
              "      <td>NaN</td>\n",
              "    </tr>\n",
              "    <tr>\n",
              "      <th>9</th>\n",
              "      <td>2024-12-01 00:00:00</td>\n",
              "      <td>2024</td>\n",
              "      <td>Unprovoked</td>\n",
              "      <td>Australia</td>\n",
              "      <td>Western Australia</td>\n",
              "      <td>Greenough River Mouth Beach Cape Burney 12km s...</td>\n",
              "      <td>Surfing</td>\n",
              "      <td>James Sweetman (child)</td>\n",
              "      <td>M</td>\n",
              "      <td>?</td>\n",
              "      <td>...</td>\n",
              "      <td>1m shark species unknown</td>\n",
              "      <td>Bob Myatt GSAF</td>\n",
              "      <td>NaN</td>\n",
              "      <td>NaN</td>\n",
              "      <td>NaN</td>\n",
              "      <td>NaN</td>\n",
              "      <td>NaN</td>\n",
              "      <td>NaN</td>\n",
              "      <td>NaN</td>\n",
              "      <td>NaN</td>\n",
              "    </tr>\n",
              "  </tbody>\n",
              "</table>\n",
              "<p>10 rows × 23 columns</p>\n",
              "</div>"
            ],
            "text/plain": [
              "                  Date  Year        Type        Country                State  \\\n",
              "0  2025-01-23 00:00:00  2025  Unprovoked      Australia    Western Australia   \n",
              "1  2025-01-22 00:00:00  2025  Unprovoked      Australia    Western Australia   \n",
              "2  2025-01-11 00:00:00  2025    Provoked            USA               Hawaii   \n",
              "3  2025-01-02 00:00:00  2025  Unprovoked  New Caledonia         Grande Terre   \n",
              "4  2025-01-02 00:00:00  2025  Unprovoked      Australia      South Australia   \n",
              "5  2024-12-29 00:00:00  2024  Unprovoked          Egypt  North of Marsa Alam   \n",
              "6  2024-12-29 00:00:00  2024  Unprovoked          Egypt  North of Marsa Alam   \n",
              "7  2024-12-28 00:00:00  2024  Unprovoked      Australia           Queensland   \n",
              "8  2024-12-02 00:00:00  2024  Unprovoked      Australia           Queensland   \n",
              "9  2024-12-01 00:00:00  2024  Unprovoked      Australia    Western Australia   \n",
              "\n",
              "                                            Location      Activity  \\\n",
              "0                                     Shipwreck Cove       Bathing   \n",
              "1                                     Cheynes beach        Surfing   \n",
              "2                      Off Haleiwa Boat Harbour Oahu        Diving   \n",
              "3                        Islet of Kendek near Koumac  Spearfishing   \n",
              "4            Granites Beach near Westall Streaky Bay       Surfing   \n",
              "5                                            Red Sea  SCUBA Diving   \n",
              "6                                            Red Sea  SCUBA Diving   \n",
              "7                   Humpy Island Great Keppel Island  Spearfishing   \n",
              "8     Curtis Island Near Gladstone QLD central coast  Spearfishing   \n",
              "9  Greenough River Mouth Beach Cape Burney 12km s...       Surfing   \n",
              "\n",
              "                                     Name Sex  Age  ...  \\\n",
              "0                                    Boy    M   12  ...   \n",
              "1                             Dale Kittow   M   37  ...   \n",
              "2  Male not stated was a dive tour worker   M   23  ...   \n",
              "3                        Robert Cuewapuru   M   40  ...   \n",
              "4                           Lance Appleby   M   28  ...   \n",
              "5                         Peppino Fappani   M   69  ...   \n",
              "6                       Gianluca Di Gioia   M   48  ...   \n",
              "7                            Luke Walford   M   40  ...   \n",
              "8                              Not stated   M  60+  ...   \n",
              "9                  James Sweetman (child)   M    ?  ...   \n",
              "\n",
              "                                 Species   \\\n",
              "0                              Not stated   \n",
              "1                           Bronze whaler   \n",
              "2                              Not stated   \n",
              "3          Reportedly Tiger or Bull shark   \n",
              "4  Great White Shart estimated 4.8m 16 ft   \n",
              "5                Reportedly a Tiger Shark   \n",
              "6                Reportedly a Tiger Shark   \n",
              "7                                Unknown    \n",
              "8                              Not stated   \n",
              "9                1m shark species unknown   \n",
              "\n",
              "                                              Source  pdf href formula href  \\\n",
              "0                                     Bob Myatt GSAF  NaN          NaN  NaN   \n",
              "1                                     Bob Myatt GSAF  NaN          NaN  NaN   \n",
              "2                  Kevin McMurray Trackingsharks.com  NaN          NaN  NaN   \n",
              "3                      Johannes Marchand Todd Smith   NaN          NaN  NaN   \n",
              "4  Glen Folkard: Simon De Marchi News.com.au: The...  NaN          NaN  NaN   \n",
              "5  Todd Smith : Kevin McMurray Trackingsharks .co...  NaN          NaN  NaN   \n",
              "6  Todd Smith : Kevin McMurray Trackingsharks .co...  NaN          NaN  NaN   \n",
              "7  Todd Smith Glen Folkard ABC News: The North We...  NaN          NaN  NaN   \n",
              "8                                  Glen Folkard GSAF  NaN          NaN  NaN   \n",
              "9                                     Bob Myatt GSAF  NaN          NaN  NaN   \n",
              "\n",
              "  Case Number Case Number.1 original order Unnamed: 21 Unnamed: 22  \n",
              "0         NaN           NaN            NaN         NaN         NaN  \n",
              "1         NaN           NaN            NaN         NaN         NaN  \n",
              "2         NaN           NaN            NaN         NaN         NaN  \n",
              "3         NaN           NaN            NaN         NaN         NaN  \n",
              "4         NaN           NaN            NaN         NaN         NaN  \n",
              "5         NaN           NaN            NaN         NaN         NaN  \n",
              "6         NaN           NaN            NaN         NaN         NaN  \n",
              "7         NaN           NaN            NaN         NaN         NaN  \n",
              "8         NaN           NaN            NaN         NaN         NaN  \n",
              "9         NaN           NaN            NaN         NaN         NaN  \n",
              "\n",
              "[10 rows x 23 columns]"
            ]
          },
          "execution_count": 24,
          "metadata": {},
          "output_type": "execute_result"
        }
      ],
      "source": [
        "sharkdata['Year'] = pd.to_numeric(sharkdata['Year'], errors='coerce')\n",
        "sharkdata.dropna(subset=['Year'], inplace=True)\n",
        "sharkdata['Year'] = sharkdata['Year'].astype(int)\n",
        "\n",
        "sharkdata.head(10)"
      ]
    },
    {
      "cell_type": "code",
      "execution_count": 30,
      "id": "52c70416",
      "metadata": {},
      "outputs": [
        {
          "data": {
            "text/plain": [
              "[<matplotlib.lines.Line2D at 0x7effdeb60700>]"
            ]
          },
          "execution_count": 30,
          "metadata": {},
          "output_type": "execute_result"
        },
        {
          "data": {
            "image/png": "[encoded data removed]",
            "text/plain": [
              "<Figure size 640x480 with 1 Axes>"
            ]
          },
          "metadata": {},
          "output_type": "display_data"
        }
      ],
      "source": [
        "sd1940 = sharkdata[sharkdata['Year'] >= 1940]\n",
        "\n",
        "sdcounts = sd1940['Year'].value_counts().sort_index()\n",
        "plt.plot(sdcounts.index, sdcounts.values, marker='o')\n",
        "'''\n",
        "It appears that there was a spike in  occurences around the year 1960, with a then steady increase in occurences up to about 2019. \n",
        "Tbe decline seen in 2020 is likely due to the pandemic, \n",
        "and the sharp drop is likely for 2025 where not much data has populated yet due to the data being pulled in february \n",
        "'''"
      ]
    },
    {
      "cell_type": "code",
      "execution_count": 38,
      "id": "6558b9a4",
      "metadata": {},
      "outputs": [
        {
          "name": "stdout",
          "output_type": "stream",
          "text": [
            "0     12\n",
            "1     37\n",
            "2     23\n",
            "3     40\n",
            "4     28\n",
            "5     69\n",
            "6     48\n",
            "7     40\n",
            "10    57\n",
            "11    24\n",
            "Name: Age, dtype: int64\n"
          ]
        },
        {
          "data": {
            "text/plain": [
              "Text(0, 0.5, 'Frequency')"
            ]
          },
          "execution_count": 38,
          "metadata": {},
          "output_type": "execute_result"
        },
        {
          "data": {
            "image/png": "[encoded data removed]",
            "text/plain": [
              "<Figure size 640x480 with 1 Axes>"
            ]
          },
          "metadata": {},
          "output_type": "display_data"
        }
      ],
      "source": [
        "sharkdata['Age'].describe()\n",
        "import pandas as pd\n",
        "sharkdata = pd.read_excel('GSAF5.xls')\n",
        "sharkdata['Age'] = pd.to_numeric(sharkdata['Age'], errors='coerce')\n",
        "sharkdata.dropna(subset=['Year'], inplace=True)\n",
        "sharkdata.dropna(subset=['Age'], inplace=True)\n",
        "sharkdata['Age'] = sharkdata['Age'].astype(int)\n",
        "print(sharkdata['Age'].head(10))\n",
        "\n",
        "plt.hist(sharkdata['Age'], color = \"green\")\n",
        "plt.xlabel(\"Age\")\n",
        "plt.ylabel(\"Frequency\")\n"
      ]
    },
    {
      "cell_type": "code",
      "execution_count": 47,
      "id": "d2c32bee",
      "metadata": {},
      "outputs": [
        {
          "name": "stdout",
          "output_type": "stream",
          "text": [
            "85.2103475307029 % of responses are from males\n"
          ]
        }
      ],
      "source": [
        "sdsex = sharkdata['Sex']\n",
        "sdsex.head(11)\n",
        "\n",
        "sdsex.describe()\n",
        "sdmaleprop = sdsex[sdsex == 'M'].count() / sdsex.count()\n",
        "print(sdmaleprop * 100, '% of responses are from males')\n"
      ]
    },
    {
      "cell_type": "code",
      "execution_count": 52,
      "id": "c525ca40",
      "metadata": {},
      "outputs": [
        {
          "name": "stdout",
          "output_type": "stream",
          "text": [
            "83.21243523316062 % of responses are unprovoked\n"
          ]
        }
      ],
      "source": [
        "types = ['Provoked','Unprovoked']\n",
        "\n",
        "sharkdata['Type'] = sharkdata['Type'].apply(lambda x: x if x in types else 'Unknown')\n",
        "\n",
        "sdtype = sharkdata['Type']\n",
        "\n",
        "sdunprovoked = sdtype[sdtype == 'Unprovoked'].count() / sdtype.count()\n",
        "print(sdunprovoked * 100, '% of responses are unprovoked')"
      ]
    },
    {
      "cell_type": "code",
      "execution_count": 53,
      "id": "ff73917f",
      "metadata": {},
      "outputs": [],
      "source": [
        "types2 = ['Y','N']\n",
        "\n",
        "sharkdata['Fatal Y/N'] = sharkdata['Fatal Y/N'].apply(lambda x: x if x in types else 'Unknown')\n",
        "\n"
      ]
    },
    {
      "cell_type": "code",
      "execution_count": null,
      "id": "39c64040",
      "metadata": {},
      "outputs": [
        {
          "ename": "KeyError",
          "evalue": "'Species'",
          "output_type": "error",
          "traceback": [
            "\u001b[0;31m---------------------------------------------------------------------------\u001b[0m",
            "\u001b[0;31mKeyError\u001b[0m                                  Traceback (most recent call last)",
            "File \u001b[0;32m~/.local/lib/python3.10/site-packages/pandas/core/indexes/base.py:3805\u001b[0m, in \u001b[0;36mIndex.get_loc\u001b[0;34m(self, key)\u001b[0m\n\u001b[1;32m   3804\u001b[0m \u001b[38;5;28;01mtry\u001b[39;00m:\n\u001b[0;32m-> 3805\u001b[0m     \u001b[38;5;28;01mreturn\u001b[39;00m \u001b[38;5;28;43mself\u001b[39;49m\u001b[38;5;241;43m.\u001b[39;49m\u001b[43m_engine\u001b[49m\u001b[38;5;241;43m.\u001b[39;49m\u001b[43mget_loc\u001b[49m\u001b[43m(\u001b[49m\u001b[43mcasted_key\u001b[49m\u001b[43m)\u001b[49m\n\u001b[1;32m   3806\u001b[0m \u001b[38;5;28;01mexcept\u001b[39;00m \u001b[38;5;167;01mKeyError\u001b[39;00m \u001b[38;5;28;01mas\u001b[39;00m err:\n",
            "File \u001b[0;32mindex.pyx:167\u001b[0m, in \u001b[0;36mpandas._libs.index.IndexEngine.get_loc\u001b[0;34m()\u001b[0m\n",
            "File \u001b[0;32mindex.pyx:196\u001b[0m, in \u001b[0;36mpandas._libs.index.IndexEngine.get_loc\u001b[0;34m()\u001b[0m\n",
            "File \u001b[0;32mpandas/_libs/hashtable_class_helper.pxi:7081\u001b[0m, in \u001b[0;36mpandas._libs.hashtable.PyObjectHashTable.get_item\u001b[0;34m()\u001b[0m\n",
            "File \u001b[0;32mpandas/_libs/hashtable_class_helper.pxi:7089\u001b[0m, in \u001b[0;36mpandas._libs.hashtable.PyObjectHashTable.get_item\u001b[0;34m()\u001b[0m\n",
            "\u001b[0;31mKeyError\u001b[0m: 'Species'",
            "\nThe above exception was the direct cause of the following exception:\n",
            "\u001b[0;31mKeyError\u001b[0m                                  Traceback (most recent call last)",
            "Cell \u001b[0;32mIn[68], line 1\u001b[0m\n\u001b[0;32m----> 1\u001b[0m sharkdata[\u001b[38;5;124m'\u001b[39m\u001b[38;5;124mSpecies\u001b[39m\u001b[38;5;124m'\u001b[39m] \u001b[38;5;241m=\u001b[39m \u001b[43msharkdata\u001b[49m\u001b[43m[\u001b[49m\u001b[38;5;124;43m'\u001b[39;49m\u001b[38;5;124;43mSpecies\u001b[39;49m\u001b[38;5;124;43m'\u001b[39;49m\u001b[43m]\u001b[49m\u001b[38;5;241m.\u001b[39mfillna(\u001b[38;5;124m'\u001b[39m\u001b[38;5;124m'\u001b[39m)\n\u001b[1;32m      3\u001b[0m white_shark_attacks \u001b[38;5;241m=\u001b[39m sharkdata[\u001b[38;5;124m'\u001b[39m\u001b[38;5;124mSpecies\u001b[39m\u001b[38;5;124m'\u001b[39m]\u001b[38;5;241m.\u001b[39mstr\u001b[38;5;241m.\u001b[39mlower()\u001b[38;5;241m.\u001b[39mstr\u001b[38;5;241m.\u001b[39mcontains(\u001b[38;5;124m'\u001b[39m\u001b[38;5;124mwhite shark\u001b[39m\u001b[38;5;124m'\u001b[39m)\u001b[38;5;241m.\u001b[39msum()\n\u001b[1;32m      5\u001b[0m total_attacks \u001b[38;5;241m=\u001b[39m sharkdata\u001b[38;5;241m.\u001b[39mshape[\u001b[38;5;241m0\u001b[39m]\n",
            "File \u001b[0;32m~/.local/lib/python3.10/site-packages/pandas/core/frame.py:4102\u001b[0m, in \u001b[0;36mDataFrame.__getitem__\u001b[0;34m(self, key)\u001b[0m\n\u001b[1;32m   4100\u001b[0m \u001b[38;5;28;01mif\u001b[39;00m \u001b[38;5;28mself\u001b[39m\u001b[38;5;241m.\u001b[39mcolumns\u001b[38;5;241m.\u001b[39mnlevels \u001b[38;5;241m>\u001b[39m \u001b[38;5;241m1\u001b[39m:\n\u001b[1;32m   4101\u001b[0m     \u001b[38;5;28;01mreturn\u001b[39;00m \u001b[38;5;28mself\u001b[39m\u001b[38;5;241m.\u001b[39m_getitem_multilevel(key)\n\u001b[0;32m-> 4102\u001b[0m indexer \u001b[38;5;241m=\u001b[39m \u001b[38;5;28;43mself\u001b[39;49m\u001b[38;5;241;43m.\u001b[39;49m\u001b[43mcolumns\u001b[49m\u001b[38;5;241;43m.\u001b[39;49m\u001b[43mget_loc\u001b[49m\u001b[43m(\u001b[49m\u001b[43mkey\u001b[49m\u001b[43m)\u001b[49m\n\u001b[1;32m   4103\u001b[0m \u001b[38;5;28;01mif\u001b[39;00m is_integer(indexer):\n\u001b[1;32m   4104\u001b[0m     indexer \u001b[38;5;241m=\u001b[39m [indexer]\n",
            "File \u001b[0;32m~/.local/lib/python3.10/site-packages/pandas/core/indexes/base.py:3812\u001b[0m, in \u001b[0;36mIndex.get_loc\u001b[0;34m(self, key)\u001b[0m\n\u001b[1;32m   3807\u001b[0m     \u001b[38;5;28;01mif\u001b[39;00m \u001b[38;5;28misinstance\u001b[39m(casted_key, \u001b[38;5;28mslice\u001b[39m) \u001b[38;5;129;01mor\u001b[39;00m (\n\u001b[1;32m   3808\u001b[0m         \u001b[38;5;28misinstance\u001b[39m(casted_key, abc\u001b[38;5;241m.\u001b[39mIterable)\n\u001b[1;32m   3809\u001b[0m         \u001b[38;5;129;01mand\u001b[39;00m \u001b[38;5;28many\u001b[39m(\u001b[38;5;28misinstance\u001b[39m(x, \u001b[38;5;28mslice\u001b[39m) \u001b[38;5;28;01mfor\u001b[39;00m x \u001b[38;5;129;01min\u001b[39;00m casted_key)\n\u001b[1;32m   3810\u001b[0m     ):\n\u001b[1;32m   3811\u001b[0m         \u001b[38;5;28;01mraise\u001b[39;00m InvalidIndexError(key)\n\u001b[0;32m-> 3812\u001b[0m     \u001b[38;5;28;01mraise\u001b[39;00m \u001b[38;5;167;01mKeyError\u001b[39;00m(key) \u001b[38;5;28;01mfrom\u001b[39;00m \u001b[38;5;21;01merr\u001b[39;00m\n\u001b[1;32m   3813\u001b[0m \u001b[38;5;28;01mexcept\u001b[39;00m \u001b[38;5;167;01mTypeError\u001b[39;00m:\n\u001b[1;32m   3814\u001b[0m     \u001b[38;5;66;03m# If we have a listlike key, _check_indexing_error will raise\u001b[39;00m\n\u001b[1;32m   3815\u001b[0m     \u001b[38;5;66;03m#  InvalidIndexError. Otherwise we fall through and re-raise\u001b[39;00m\n\u001b[1;32m   3816\u001b[0m     \u001b[38;5;66;03m#  the TypeError.\u001b[39;00m\n\u001b[1;32m   3817\u001b[0m     \u001b[38;5;28mself\u001b[39m\u001b[38;5;241m.\u001b[39m_check_indexing_error(key)\n",
            "\u001b[0;31mKeyError\u001b[0m: 'Species'"
          ]
        }
      ],
      "source": [
        "'''\n",
        "sharkdata['Species'] = sharkdata['Species'].fillna('')\n",
        "\n",
        "white_shark_attacks = sharkdata['Species'].str.lower().str.contains('white shark').sum()\n",
        "\n",
        "total_attacks = sharkdata.shape[0]\n",
        "\n",
        "proportion_white_shark_attacks = white_shark_attacks / total_attacks\n",
        "\n",
        "print(f\"Proportion of attacks by white sharks: {proportion_white_shark_attacks:.2%}\")\n",
        "'''"
      ]
    },
    {
      "cell_type": "markdown",
      "id": "5735a4d4-8be8-433a-a351-70eb8002e632",
      "metadata": {
        "id": "5735a4d4-8be8-433a-a351-70eb8002e632"
      },
      "source": [
        "**Q3.** Open the \"tidy_data.pdf\" document in the repo, which is a paper called Tidy Data by Hadley Wickham.\n",
        "\n",
        "  1. Read the abstract. What is this paper about?\n",
        "  2. Read the introduction. What is the \"tidy data standard\" intended to accomplish?\n",
        "  3. Read the intro to section 2. What does this sentence mean: \"Like families, tidy datasets are all alike but every messy dataset is messy in its own way.\" What does this sentence mean: \"For a given dataset, it’s usually easy to figure out what are observations and what are variables, but it is surprisingly difficult to precisely define variables and observations in general.\"\n",
        "  4. Read Section 2.2. How does Wickham define values, variables, and observations?\n",
        "  5. How is \"Tidy Data\" defined in section 2.3?\n",
        "  6. Read the intro to Section 3 and Section 3.1. What are the 5 most common problems with messy datasets? Why are the data in Table 4 messy? What is \"melting\" a dataset?\n",
        "  7. Why, specifically, is table 11 messy but table 12 tidy and \"molten\"?\n",
        "  8. Read Section 6. What is the \"chicken-and-egg\" problem with focusing on tidy data? What does Wickham hope happens in the future with further work on the subject of data wrangling?"
      ]
    },
    {
      "cell_type": "markdown",
      "id": "649494cd-cfd6-4f80-992a-9994fc19e1d5",
      "metadata": {
        "id": "649494cd-cfd6-4f80-992a-9994fc19e1d5"
      },
      "source": [
        "**Q4.** Many important datasets contain a race variable, typically limited to a handful of values often including Black, White, Asian, Latino, and Indigenous. This question looks at data gathering efforts on this variable by the U.S. Federal government.\n",
        "\n",
        "1. How did the most recent US Census gather data on race?\n",
        "2. Why do we gather these data? What role do these kinds of data play in politics and society? Why does data quality matter?\n",
        "3. Please provide a constructive criticism of how the Census was conducted: What was done well? What do you think was missing? How should future large scale surveys be adjusted to best reflect the diversity of the population? Could some of the Census' good practices be adopted more widely to gather richer and more useful data?\n",
        "4. How did the Census gather data on sex and gender? Please provide a similar constructive criticism of their practices.\n",
        "5. When it comes to cleaning data, what concerns do you have about protected characteristics like sex, gender, sexual identity, or race? What challenges can you imagine arising when there are missing values? What good or bad practices might people adopt, and why?\n",
        "6. Suppose someone invented an algorithm to impute values for protected characteristics like race, gender, sex, or sexuality. What kinds of concerns would you have?"
      ]
    },
    {
      "cell_type": "markdown",
      "id": "aec56008",
      "metadata": {},
      "source": [
        "### 1\n",
        "The most recent US Census asked two separate race questions: the first asked whether one was hispanic or non hispanic, providing several tickboxes for hispanic origin and an open response answer for other options. The second question offers tickboxes for race, including open response boxes within race tickboxes.\n",
        "### 2\n",
        "These data can be collected to discover trends or issues that may be unfairly affecting certain racial groups (or other groups in the census) more than others. These data can be used to inform political decisions that can help to uplift certain groups in need, or make decisions with a better understanding of who is being governed. Having high-quality data is important for the data to be useful and interpretable. If the data is not accurate and thorough, wrong interpretations of the population could be made.\n",
        "### 3\n",
        "One way that the census was done well was its commitment to including as much data as possible, allowing for specifications of questions so that all possible responses could be included and most were placed into a box that fit them. One area I did not see on the census form I read was religion, which I think could be a beneficial and informative variable to have collected. I understand the challenges with collecting that data, however. Adopting a tickbox & free response conjoined method is useful for collecting a combination of more easily usable data and specific data that could allow for greater understanding of data collected in other areas.\n",
        "### 4\n",
        "The Census asked for a person to specify their sex as male or female; no information was collected on gender identity. A major issue with this is that a significant portion of the US population has a gender identity that is not well described by their sex as would be listed on the form, and this valuable data and understanding of their identity is completely left out of the form.\n",
        "### 5\n",
        "One major concern I have is that certain responses for race or gender could be disregarded in the data cleaning process if it is not deemed as significant or important enough to warrant being counted. If certain values are 'too difficult' to clean, that information that reflects someone's identity could be easily discarded in the name of data cleaning. Effort and policy must be made to preserve accurate responses in respect to their reflection of individual characteristics.\n",
        "### 6\n",
        "One of the concerns of using an algorithm is that the algorithm will reflect the bias of the developer. An algorithm is also non-discriminant, failing to consider the importance of certain values or be able to read that one value is intended to fit in a category but would not be done so by an algorithm. "
      ]
    }
  ],
  "metadata": {
    "colab": {
      "provenance": []
    },
    "kernelspec": {
      "display_name": "Python 3",
      "language": "python",
      "name": "python3"
    },
    "language_info": {
      "codemirror_mode": {
        "name": "ipython",
        "version": 3
      },
      "file_extension": ".py",
      "mimetype": "text/x-python",
      "name": "python",
      "nbconvert_exporter": "python",
      "pygments_lexer": "ipython3",
      "version": "3.10.12"
    }
  },
  "nbformat": 4,
  "nbformat_minor": 5
}
